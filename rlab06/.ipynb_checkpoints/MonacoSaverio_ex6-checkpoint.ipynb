{
 "cells": [
  {
   "cell_type": "markdown",
   "metadata": {},
   "source": [
    "# Advanced Statistics for Physics Analysis 2020 - 2021\n",
    "## Lab 6 - Saverio Monaco"
   ]
  },
  {
   "cell_type": "code",
   "execution_count": 52,
   "metadata": {
    "scrolled": true
   },
   "outputs": [],
   "source": [
    "options(repr.plot.width=15, repr.plot.height=8)\n",
    "library(tidyverse)"
   ]
  },
  {
   "cell_type": "markdown",
   "metadata": {},
   "source": [
    "## Exercise 1\n",
    "\n",
    "The  number  of  particles  emitted  by  a  radioactive  source  during  a  fixed  interval  of  time  (∆t=10 s) follows a Poisson distribution on the parameter μ.  The number of particles observed duringconsecutive time intervals is:  4, 1, 3, 1 and 3"
   ]
  },
  {
   "cell_type": "markdown",
   "metadata": {},
   "source": [
    "### 1.1 Suppose a uniform prior distribution for the parameter μ:\n",
    "### - determine and draw the posterior distribution for μ, given the data\n",
    "### - evaluate mean, median and variance, both analytically and numerically in R"
   ]
  },
  {
   "cell_type": "markdown",
   "metadata": {},
   "source": [
    "### 1.2 Suppose a Jeffrey’s prior for the parameter μ\n",
    "### - determine and draw the posterior distribution for μ, given the data\n",
    "### - evaluate mean, median and variance, both analytically and numerically in R"
   ]
  },
  {
   "cell_type": "markdown",
   "metadata": {},
   "source": [
    "### 1.3 Evaluate a 95% credibility interval for the results obtained with both priors.  Compare the resultwith that obtained using a normal approximation for the posterior distribution, with the same meanand standard deviation"
   ]
  },
  {
   "cell_type": "markdown",
   "metadata": {},
   "source": [
    "## Exercise 2\n",
    "\n",
    "given the problem of the lightouse discussed last week, study the case in which both the positionalong the shore (α) and the distance out at sea (β) are unknown\n"
   ]
  },
  {
   "cell_type": "markdown",
   "metadata": {},
   "source": [
    "<img src=\"data:image/jpeg;base64,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\" width=\"600\"/>"
   ]
  },
  {
   "cell_type": "markdown",
   "metadata": {},
   "source": [
    "## Exercise 3\n",
    "given the Signal over Background example discussed last week, analyze and discuss the following cases:"
   ]
  },
  {
   "cell_type": "markdown",
   "metadata": {},
   "source": [
    "### 3.1 Vary the sampling resolution of used to generate the data, keeping the same sampling range\n",
    "`xdat <- seq(from=-7*w, to=7*w, by=0.5*w)`"
   ]
  },
  {
   "cell_type": "markdown",
   "metadata": {},
   "source": [
    "### change the resolution w={0.1,0.25,1,2,3} and check the effect on the results"
   ]
  },
  {
   "cell_type": "markdown",
   "metadata": {},
   "source": [
    "### 3.2 Change the ratio A/B used to simulate the data (keeping both positive in accordance with the prior) and check the effect on the results"
   ]
  },
  {
   "cell_type": "code",
   "execution_count": null,
   "metadata": {},
   "outputs": [],
   "source": []
  }
 ],
 "metadata": {
  "kernelspec": {
   "display_name": "R",
   "language": "R",
   "name": "ir"
  },
  "language_info": {
   "codemirror_mode": "r",
   "file_extension": ".r",
   "mimetype": "text/x-r-source",
   "name": "R",
   "pygments_lexer": "r",
   "version": "4.0.2"
  }
 },
 "nbformat": 4,
 "nbformat_minor": 4
}
