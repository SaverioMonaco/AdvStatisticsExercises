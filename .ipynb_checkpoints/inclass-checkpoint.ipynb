{
 "cells": [
  {
   "cell_type": "markdown",
   "id": "a91c26c0-bdf9-4993-87b5-6e7a09c4b229",
   "metadata": {},
   "source": [
    "# Exercises done in class"
   ]
  },
  {
   "cell_type": "markdown",
   "id": "b8cde809-91fa-47b9-8932-94b17b6ab536",
   "metadata": {},
   "source": [
    "## Lect. 1"
   ]
  },
  {
   "cell_type": "markdown",
   "id": "1a8481e8-b0b7-483e-a0b1-3362b55181dc",
   "metadata": {},
   "source": [
    "### Exercise 1"
   ]
  },
  {
   "cell_type": "markdown",
   "id": "4c655f66-68bb-40bd-af11-0c18c48f895b",
   "metadata": {},
   "source": [
    "A new medical diagnostic test for a specific disease comes to market.\\\n",
    "    \\\n",
    "The **sensitivity** of the test i.e. the probability the test gives a positive response if a person has the disease is 0.95 ``P(T|DI)``\\\n",
    "The **specificity** i.e. the probability that the test fives a negative response if a person does not have the disease is 0.90 ``P(⌜T|⌜DI)``\\\n",
    "1% of the population has the disease. ``P(D|I)``\\\n",
    "    \\\n",
    "What is the probability that a person has the disease, given the fact that the test gives a positive response ``P(D|TI)``"
   ]
  },
  {
   "cell_type": "code",
   "execution_count": 1,
   "id": "c55b4b68-f4ed-48c8-ad3e-6c09e3c3e446",
   "metadata": {},
   "outputs": [],
   "source": [
    "#########################################################################################################"
   ]
  },
  {
   "cell_type": "code",
   "execution_count": null,
   "id": "7c7a42ec-b92e-41d1-b98c-6d447bca24ed",
   "metadata": {},
   "outputs": [],
   "source": []
  }
 ],
 "metadata": {
  "kernelspec": {
   "display_name": "R",
   "language": "R",
   "name": "ir"
  },
  "language_info": {
   "codemirror_mode": "r",
   "file_extension": ".r",
   "mimetype": "text/x-r-source",
   "name": "R",
   "pygments_lexer": "r",
   "version": "3.6.3"
  }
 },
 "nbformat": 4,
 "nbformat_minor": 5
}
